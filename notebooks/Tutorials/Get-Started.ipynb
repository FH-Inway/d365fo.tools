{
 "cells": [
  {
   "attachments": {},
   "cell_type": "markdown",
   "metadata": {
    "dotnet_interactive": {
     "language": "pwsh"
    },
    "polyglot_notebook": {
     "kernelName": "pwsh"
    }
   },
   "source": [
    "# Get Started\n",
    "\n",
    "This notebook will guide you through the first steps of using the d365fo.tools.\n",
    "\n",
    "## Prerequisites\n",
    "\n",
    "To make full use of this notebook, open it in Visual Studio Code with the PowerShell and Polyglot extensions installed.\n",
    "\n",
    "To use the d365fo.tools PowerShell module, version 5.1 of PowerShell needs to be installed as well. Many cmdlets of the module will also require a D365FO installation and internet access.\n",
    "\n",
    "## Installation\n",
    "\n",
    "The d365fo.tools module can be installed from the PowerShell Gallery. To do so, run the following PowerShell command:"
   ]
  },
  {
   "cell_type": "code",
   "execution_count": null,
   "metadata": {
    "dotnet_interactive": {
     "language": "pwsh"
    },
    "polyglot_notebook": {
     "kernelName": "pwsh"
    },
    "vscode": {
     "languageId": "polyglot-notebook"
    }
   },
   "outputs": [],
   "source": [
    "Install-Module d365fo.tools -Scope CurrentUser"
   ]
  },
  {
   "attachments": {},
   "cell_type": "markdown",
   "metadata": {
    "dotnet_interactive": {
     "language": "pwsh"
    },
    "polyglot_notebook": {
     "kernelName": "pwsh"
    }
   },
   "source": [
    "### Non-administrator and administrator installation\n",
    "\n",
    "This will install the module in the current user's scope. Many cmdlets will require administrator privileges to run, so it is recommended to install the module in the AllUsers scope instead. To do so, run the following command. Note that you should run Visual Studio Code as administrator to do this. If you later plan to use the module without Visual Studio Code, make sure to open the PowerShell console as administrator as well."
   ]
  },
  {
   "cell_type": "code",
   "execution_count": null,
   "metadata": {
    "dotnet_interactive": {
     "language": "pwsh"
    },
    "polyglot_notebook": {
     "kernelName": "pwsh"
    },
    "vscode": {
     "languageId": "polyglot-notebook"
    }
   },
   "outputs": [],
   "source": [
    "Install-Module d365fo.tools -Scope AllUsers"
   ]
  },
  {
   "attachments": {},
   "cell_type": "markdown",
   "metadata": {
    "dotnet_interactive": {
     "language": "pwsh"
    },
    "polyglot_notebook": {
     "kernelName": "pwsh"
    }
   },
   "source": [
    "### Installation prompts\n",
    "\n",
    "Either way, the installation may prompt you for questions / confirmations about core PowerShell configurations. You need to either accept or approve all the prompts for the module to work correctly. The prompts usually require you to enter \"y\" (for yes) or \"a\" (for \"yes to all\")."
   ]
  },
  {
   "attachments": {},
   "cell_type": "markdown",
   "metadata": {
    "dotnet_interactive": {
     "language": "pwsh"
    },
    "polyglot_notebook": {
     "kernelName": "pwsh"
    }
   },
   "source": [
    "## Importing the module\n",
    "\n",
    "Once the module is installed, it can be imported into the current PowerShell session. To do so, run the following command.\n",
    "\n",
    "Note that this uses the `UseWindowsPowerShell` switch to enable importing the module in the PowerShell session used by this notebook. If you use the d365fo.tools module in a regular PowerShell session, you can omit this switch.\n",
    "\n",
    "The module import in this and other notebooks might show errors and warnings. For the purposes of the commands shown by this and other notebooks, these can be ignored. If you encounter issues when running other commands in the notebooks, try running the commands in a regular PowerShell session instead."
   ]
  },
  {
   "cell_type": "code",
   "execution_count": 1,
   "metadata": {
    "dotnet_interactive": {
     "language": "pwsh"
    },
    "polyglot_notebook": {
     "kernelName": "pwsh"
    },
    "vscode": {
     "languageId": "polyglot-notebook"
    }
   },
   "outputs": [
    {
     "data": {
      "text/plain": []
     },
     "metadata": {},
     "output_type": "display_data"
    },
    {
     "name": "stdout",
     "output_type": "stream",
     "text": [
      "\u001b[31;1mImport-Module: \u001b[31;1mFailed to generate proxies for remote module 'd365fo.tools'. Proxy creation has been skipped for the 'Add-D365BroadcastMessageConfig' command, because PowerShell could not verify the safety of a parameter alias name: '$AADGuid'.\u001b[0m\n",
      "\u001b[31;1mImport-Module: \u001b[31;1mFailed to generate proxies for remote module 'd365fo.tools'. Proxy creation has been skipped for the 'Send-D365BroadcastMessage' command, because PowerShell could not verify the safety of a parameter alias name: '$AADGuid'.\u001b[0m\n",
      "\u001b[93mWARNING: Module d365fo.tools is loaded in Windows PowerShell using WinPSCompatSession remoting session; please note that all input and output of commands from this module will be deserialized objects. If you want to load this module into PowerShell please use 'Import-Module -SkipEditionCheck' syntax.\u001b[0m\n"
     ]
    }
   ],
   "source": [
    "Import-Module d365fo.tools -UseWindowsPowerShell"
   ]
  },
  {
   "attachments": {},
   "cell_type": "markdown",
   "metadata": {
    "dotnet_interactive": {
     "language": "pwsh"
    },
    "polyglot_notebook": {
     "kernelName": "pwsh"
    }
   },
   "source": [
    "## Using the module\n",
    "\n",
    "Now that the module is imported, you can start using its cmdlets. Other notebooks will go into more detail about what cmdlets are available and how to use them. For now, let's just run a simple cmdlet to see if everything is working correctly. The following command will show some information about the version of the D365FO installation."
   ]
  },
  {
   "cell_type": "code",
   "execution_count": 2,
   "metadata": {
    "dotnet_interactive": {
     "language": "pwsh"
    },
    "polyglot_notebook": {
     "kernelName": "pwsh"
    },
    "vscode": {
     "languageId": "polyglot-notebook"
    }
   },
   "outputs": [
    {
     "name": "stdout",
     "output_type": "stream",
     "text": [
      "\n",
      "\u001b[32;1mRunspaceId              : \u001b[0mc858006b-1b5a-4057-84c8-c2178d935baf\n",
      "\u001b[32;1mProductVersion          : \u001b[0m7.0\n",
      "\u001b[32;1mProductBuildVersion     : \u001b[0m7.0.6545.43\n",
      "\u001b[32;1mProductBuildBranch      : \u001b[0mmain\n",
      "\u001b[32;1mPlatformVersion         : \u001b[0mUpdate53\n",
      "\u001b[32;1mPlatformBuildVersion    : \u001b[0m7.0.6545.43\n",
      "\u001b[32;1mPlatformBranch          : \u001b[0mmain\n",
      "\u001b[32;1mApplicationVersion      : \u001b[0m10.0.29\n",
      "\u001b[32;1mApplicationBuildVersion : \u001b[0m10.0.1326.46\n",
      "\u001b[32;1mApplicationBranch       : \u001b[0mmain\n",
      "\u001b[32;1mProductRegisteredName   : \u001b[0mMicrosoft Dynamics 365 for Finance and Operations\n",
      "\n",
      "\n"
     ]
    }
   ],
   "source": [
    "Get-D365ProductInformation"
   ]
  }
 ],
 "metadata": {
  "kernelspec": {
   "display_name": ".NET (C#)",
   "language": "C#",
   "name": ".net-csharp"
  },
  "polyglot_notebook": {
   "kernelInfo": {
    "defaultKernelName": "csharp",
    "items": [
     {
      "aliases": [],
      "name": "csharp"
     }
    ]
   }
  }
 },
 "nbformat": 4,
 "nbformat_minor": 2
}
